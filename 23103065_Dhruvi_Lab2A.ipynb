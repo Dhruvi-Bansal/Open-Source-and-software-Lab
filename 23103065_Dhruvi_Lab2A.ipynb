{
 "cells": [
  {
   "cell_type": "markdown",
   "id": "123bd709-d4ac-4479-a31a-d8f86092ce28",
   "metadata": {},
   "source": [
    "Q1"
   ]
  },
  {
   "cell_type": "code",
   "execution_count": 1,
   "id": "15e03713-a5e5-4605-b7f6-b73652a193e9",
   "metadata": {},
   "outputs": [],
   "source": [
    "l=[\"Apple\",\"Mango\",\"Banana\",\"Orange\",\"Grape\"]"
   ]
  },
  {
   "cell_type": "code",
   "execution_count": 2,
   "id": "14c194fa-084c-473d-ac93-e9643e1c98a3",
   "metadata": {},
   "outputs": [
    {
     "data": {
      "text/plain": [
       "'Apple'"
      ]
     },
     "execution_count": 2,
     "metadata": {},
     "output_type": "execute_result"
    }
   ],
   "source": [
    "l[0]"
   ]
  },
  {
   "cell_type": "code",
   "execution_count": 3,
   "id": "65707fbe-0849-42bd-bfc5-61a90eab457a",
   "metadata": {},
   "outputs": [
    {
     "data": {
      "text/plain": [
       "'Grape'"
      ]
     },
     "execution_count": 3,
     "metadata": {},
     "output_type": "execute_result"
    }
   ],
   "source": [
    "l[-1]"
   ]
  },
  {
   "cell_type": "code",
   "execution_count": 4,
   "id": "752de66d-2219-4fd4-a8c8-63efae68bd78",
   "metadata": {},
   "outputs": [
    {
     "data": {
      "text/plain": [
       "['Mango', 'Banana', 'Orange']"
      ]
     },
     "execution_count": 4,
     "metadata": {},
     "output_type": "execute_result"
    }
   ],
   "source": [
    "l[1:-1]"
   ]
  },
  {
   "cell_type": "markdown",
   "id": "8550f40e-6393-4e96-b56d-e69361ea56e8",
   "metadata": {},
   "source": [
    "Q2"
   ]
  },
  {
   "cell_type": "code",
   "execution_count": 5,
   "id": "e5d22271-8f09-4e70-a171-c82b2ec977aa",
   "metadata": {},
   "outputs": [],
   "source": [
    "dict= {'Alice': 21, 'Bob': 22, 'Charlie': 20, 'David': 23, 'Eve': 19} "
   ]
  },
  {
   "cell_type": "code",
   "execution_count": 6,
   "id": "58ac4944-85fd-48f6-ba26-3e2e16c41a1a",
   "metadata": {},
   "outputs": [
    {
     "data": {
      "text/plain": [
       "21"
      ]
     },
     "execution_count": 6,
     "metadata": {},
     "output_type": "execute_result"
    }
   ],
   "source": [
    "dict['Alice']"
   ]
  },
  {
   "cell_type": "code",
   "execution_count": 7,
   "id": "7ea94649-d5bd-45a9-817c-5eafe2cdaabc",
   "metadata": {},
   "outputs": [],
   "source": [
    "dict['Frank']=24"
   ]
  },
  {
   "cell_type": "code",
   "execution_count": 8,
   "id": "53c3cb68-e943-446a-a938-dcce3cdaa11a",
   "metadata": {},
   "outputs": [
    {
     "name": "stdout",
     "output_type": "stream",
     "text": [
      "Alice : 21\n",
      "Bob : 22\n",
      "Charlie : 20\n",
      "David : 23\n",
      "Eve : 19\n",
      "Frank : 24\n"
     ]
    }
   ],
   "source": [
    "for key,value in dict.items():\n",
    "    print(f\"{key} : {value}\")"
   ]
  },
  {
   "cell_type": "markdown",
   "id": "4f690344-6c6d-4942-9eb1-6d5b17354c34",
   "metadata": {},
   "source": [
    "Q3"
   ]
  },
  {
   "cell_type": "code",
   "execution_count": 9,
   "id": "ce5f351e-d9ff-48f9-9b20-94abf5aea5a3",
   "metadata": {},
   "outputs": [],
   "source": [
    "def duplicate(numbers):\n",
    "    duplicates = []\n",
    "    seen = set()\n",
    "    \n",
    "    for num in numbers:\n",
    "        if num in seen and num not in duplicates:\n",
    "            duplicates.append(num)\n",
    "        seen.add(num)\n",
    "    \n",
    "    return duplicates"
   ]
  },
  {
   "cell_type": "code",
   "execution_count": 10,
   "id": "8519c534-9720-4a4b-9f19-ac48a2db3e58",
   "metadata": {},
   "outputs": [
    {
     "name": "stdout",
     "output_type": "stream",
     "text": [
      "[1, 2, 3]\n"
     ]
    }
   ],
   "source": [
    "l=[1,2,3,1,2,3,1,2,3,4]\n",
    "ans=duplicate(l)\n",
    "print(ans)"
   ]
  },
  {
   "cell_type": "markdown",
   "id": "9c3cd9ba-8c99-408f-9c1b-96c8fe15c533",
   "metadata": {},
   "source": [
    "Q4"
   ]
  },
  {
   "cell_type": "code",
   "execution_count": 11,
   "id": "c19ae38e-3668-4578-bbe1-d8ed1a8ec285",
   "metadata": {},
   "outputs": [],
   "source": [
    "def group(num,size):\n",
    "    ans=[]\n",
    "    listSize=len(num)\n",
    "    for i in range(0,listSize,size):\n",
    "        temp=num[i:i+size]\n",
    "        ans.append(temp)\n",
    "    return ans\n",
    "            "
   ]
  },
  {
   "cell_type": "code",
   "execution_count": 12,
   "id": "743fe114-f122-4c89-aa6b-d228c9f5c573",
   "metadata": {},
   "outputs": [
    {
     "name": "stdout",
     "output_type": "stream",
     "text": [
      "[[1, 2, 3], [4, 5, 6], [7, 8, 9]]\n"
     ]
    }
   ],
   "source": [
    "num=[1,2,3,4,5,6,7,8,9]\n",
    "ans=group(num,3)\n",
    "print(ans)"
   ]
  },
  {
   "cell_type": "code",
   "execution_count": 13,
   "id": "758c1c50-5cef-420e-91b5-83783dd3d692",
   "metadata": {},
   "outputs": [
    {
     "name": "stdout",
     "output_type": "stream",
     "text": [
      "['fig', 'kiwi', 'apple', 'banana', 'cherry']\n"
     ]
    }
   ],
   "source": [
    "def lenSort(arr):\n",
    "    return sorted(arr, key=len)\n",
    "arr=[\"apple\", \"banana\", \"kiwi\", \"cherry\", \"fig\"]\n",
    "print(lenSort(arr))"
   ]
  },
  {
   "cell_type": "markdown",
   "id": "77f4df45-303e-4ecf-b500-990d30b2c17c",
   "metadata": {},
   "source": [
    "Q5"
   ]
  },
  {
   "cell_type": "code",
   "execution_count": 14,
   "id": "1dfaa7c1",
   "metadata": {},
   "outputs": [
    {
     "name": "stdout",
     "output_type": "stream",
     "text": [
      "Original List: ['apple', 'banana', 'kiwi', 'orange', 'grape']\n",
      "Sorted List: ['kiwi', 'apple', 'grape', 'banana', 'orange']\n",
      "\n",
      "Original List: ['a.txt', 'b.py', 'c.cpp', 'd.java', 'e.txt']\n",
      "Sorted List: ['c.cpp', 'd.java', 'b.py', 'a.txt', 'e.txt']\n"
     ]
    }
   ],
   "source": [
    "def lensort(string_list):\n",
    "  return sorted(string_list, key = len)\n",
    "\n",
    "def extsort(file_list):\n",
    "  return sorted(file_list, key=lambda file: file.split('.')[-1])\n",
    "\n",
    "strings = [\"apple\", \"banana\", \"kiwi\", \"orange\", \"grape\"]\n",
    "print(f\"Original List: {strings}\")\n",
    "print(f\"Sorted List: {lensort(strings)}\")\n",
    "\n",
    "files = [\"a.txt\", \"b.py\", \"c.cpp\", \"d.java\", \"e.txt\"]\n",
    "print(f\"\\nOriginal List: {files}\")\n",
    "print(f\"Sorted List: {extsort(files)}\")"
   ]
  },
  {
   "cell_type": "markdown",
   "id": "fc7b4371-4ad4-487c-8348-3c4c414e4edd",
   "metadata": {},
   "source": [
    "Q6"
   ]
  },
  {
   "cell_type": "code",
   "execution_count": 15,
   "id": "0cfd3b83-6600-48b2-bb91-385f02629e70",
   "metadata": {},
   "outputs": [],
   "source": [
    "file1 = open(\"example.txt\", \"w\")\n",
    "L = [\"This is Delhi \\n\", \"This is Paris \\n\", \"This is London \\n\"]\n",
    "\n",
    "file1.write(\"Hello \\n\")\n",
    "file1.writelines(L)\n",
    "file1.close()"
   ]
  },
  {
   "cell_type": "code",
   "execution_count": 16,
   "id": "4ee8862f-214b-45a9-ba84-e551a9303195",
   "metadata": {},
   "outputs": [
    {
     "name": "stdout",
     "output_type": "stream",
     "text": [
      "Output of Read function is \n",
      "Hello \n",
      "This is Delhi \n",
      "This is Paris \n",
      "This is London \n",
      "\n"
     ]
    }
   ],
   "source": [
    "file1 =open(\"example.txt\",\"r+\")\n",
    "print(\"Output of Read function is \")\n",
    "print(file1.read())\n",
    "file1.close()"
   ]
  },
  {
   "cell_type": "markdown",
   "id": "bb1c9067-dbea-42c6-be4e-2f875e1506f4",
   "metadata": {},
   "source": [
    "Q7"
   ]
  },
  {
   "cell_type": "code",
   "execution_count": 17,
   "id": "898e7ffc-0eb9-4514-823a-e27f10615d99",
   "metadata": {},
   "outputs": [
    {
     "name": "stdout",
     "output_type": "stream",
     "text": [
      "Number of words in text file:  14\n",
      "Number of lines in text file:  4\n",
      "Number of characters in text file:  39\n",
      "Number of spaces in text file:  10\n"
     ]
    }
   ],
   "source": [
    "def counter(fname):\n",
    "    num_words = 0\n",
    "    num_lines = 0\n",
    "    num_charc = 0\n",
    "    num_spaces = 0\n",
    "    with open(fname, 'r') as f:\n",
    "        for line in f:\n",
    "            num_lines += 1\n",
    "            word = 'Y'\n",
    "            for letter in line:\n",
    "                if (letter != ' ' and word == 'Y'):\n",
    "                    num_words += 1\n",
    "                    word = 'N'\n",
    "                elif (letter == ' '):\n",
    "                    num_spaces += 1\n",
    "                    word = 'Y'\n",
    "                for i in letter:\n",
    "                    if(i !=\" \" and i !=\"\\n\"):\n",
    "                        num_charc += 1\n",
    "                        \n",
    "    print(\"Number of words in text file: \",\n",
    "          num_words)\n",
    "    print(\"Number of lines in text file: \",\n",
    "          num_lines)\n",
    "    print('Number of characters in text file: ',\n",
    "          num_charc)\n",
    "    print('Number of spaces in text file: ',\n",
    "          num_spaces)\n",
    "counter(\"example.txt\")"
   ]
  },
  {
   "cell_type": "markdown",
   "id": "21f56fe8-cad0-45f0-922d-36838439d8d4",
   "metadata": {},
   "source": [
    "Q8"
   ]
  },
  {
   "cell_type": "code",
   "execution_count": 18,
   "id": "84f07227-2ceb-4cec-a850-6fd07447b282",
   "metadata": {},
   "outputs": [
    {
     "name": "stdout",
     "output_type": "stream",
     "text": [
      "This is London\n",
      "This is Paris\n",
      "This is Delhi\n",
      "Hello\n"
     ]
    }
   ],
   "source": [
    "with open(\"example.txt\", 'r') as file:\n",
    "    lines = file.readlines()\n",
    "    for line in reversed(lines):\n",
    "        print(line.strip())"
   ]
  },
  {
   "cell_type": "markdown",
   "id": "ce3d0bdf-5209-44d8-8f59-690302652f96",
   "metadata": {},
   "source": [
    "Q9"
   ]
  },
  {
   "cell_type": "code",
   "execution_count": 19,
   "id": "65127f82-31d9-491e-a1fc-cb8fea53b018",
   "metadata": {},
   "outputs": [
    {
     "name": "stdout",
     "output_type": "stream",
     "text": [
      "nodnoL si sihT\n",
      "siraP si sihT\n",
      "ihleD si sihT\n",
      "olleH\n"
     ]
    }
   ],
   "source": [
    "with open(\"example.txt\", 'r') as file:\n",
    "    lines = file.readlines()\n",
    "    for line in reversed(lines):\n",
    "        print(line.strip()[::-1])"
   ]
  },
  {
   "cell_type": "markdown",
   "id": "11f32270",
   "metadata": {},
   "source": [
    "Q10"
   ]
  },
  {
   "cell_type": "code",
   "execution_count": 20,
   "id": "4b31fb37-53be-46e7-a1a2-435ac2c65467",
   "metadata": {},
   "outputs": [
    {
     "name": "stdout",
     "output_type": "stream",
     "text": [
      "This is a very ling\n",
      "line of text that\n",
      "needs to be wrapped\n",
      "to fit within a\n",
      "certain width.\n"
     ]
    }
   ],
   "source": [
    "import sys\n",
    "import textwrap\n",
    "\n",
    "def wrap_file(filename, width):\n",
    "  try:\n",
    "    with open(filename, 'r') as f:\n",
    "      for line in f:\n",
    "        print(textwrap.fill(line, width=width))\n",
    "  except FileNotFoundError:\n",
    "    print(f\"Error: File '{filename}' not found.\")\n",
    "\n",
    "with open(\"long_line.txt\", \"w\") as f:\n",
    "  f.write(\"This is a very ling line of text that needs to be wrapped to fit within a certain width.\")\n",
    "\n",
    "wrap_file(\"long_line.txt\", 20)"
   ]
  },
  {
   "cell_type": "markdown",
   "id": "fb567823",
   "metadata": {},
   "source": [
    "Q11\n"
   ]
  },
  {
   "cell_type": "code",
   "execution_count": 21,
   "id": "2319584a",
   "metadata": {},
   "outputs": [
    {
     "name": "stdout",
     "output_type": "stream",
     "text": [
      "Original List: [1, 2, 3, 4, 5]\n",
      "Squared List: [1, 4, 9, 16, 25]\n"
     ]
    }
   ],
   "source": [
    "def map_comprehension(func, iterable):\n",
    "  return [func(item) for item in iterable]\n",
    "\n",
    "numbers = [1, 2, 3, 4, 5]\n",
    "squared_numbers = map_comprehension(lambda x: x**2, numbers)\n",
    "print(f\"Original List: {numbers}\")\n",
    "print(f\"Squared List: {squared_numbers}\")"
   ]
  },
  {
   "cell_type": "markdown",
   "id": "10bf4deb",
   "metadata": {},
   "source": [
    "Q12"
   ]
  },
  {
   "cell_type": "code",
   "execution_count": 22,
   "id": "a3c64216",
   "metadata": {},
   "outputs": [
    {
     "name": "stdout",
     "output_type": "stream",
     "text": [
      "Original List: [1, 2, 3, 4, 5, 6, 7, 8, 9, 10]\n",
      "Even Numbers: [2, 4, 6, 8, 10]\n"
     ]
    }
   ],
   "source": [
    "def filter_comprehension(func, iterable):\n",
    "  return [item for item in iterable if func(item)]\n",
    "\n",
    "numbers = [1,2,3,4,5,6,7,8,9,10]\n",
    "even_numbers = filter_comprehension(lambda x: x % 2 == 0, numbers)\n",
    "print(f\"Original List: {numbers}\")\n",
    "print(f\"Even Numbers: {even_numbers}\")"
   ]
  },
  {
   "cell_type": "markdown",
   "id": "1884fac1",
   "metadata": {},
   "source": [
    "Q13"
   ]
  },
  {
   "cell_type": "code",
   "execution_count": 23,
   "id": "fff4ccd6",
   "metadata": {},
   "outputs": [
    {
     "name": "stdout",
     "output_type": "stream",
     "text": [
      "[(1, 2, 3), (1, 3, 4), (1, 4, 5), (2, 3, 5), (1, 5, 6), (2, 4, 6), (1, 6, 7), (2, 5, 7), (3, 4, 7), (1, 7, 8), (2, 6, 8), (3, 5, 8), (1, 8, 9), (2, 7, 9), (3, 6, 9), (4, 5, 9)]\n"
     ]
    }
   ],
   "source": [
    "def triplets(n):\n",
    "  triplets = []\n",
    "  for c in range(1, n):\n",
    "    for a in range(1, c):\n",
    "      b = c-a\n",
    "      if a < b:\n",
    "        triplets.append((a, b, c))\n",
    "  return triplets\n",
    "\n",
    "print(triplets(10))"
   ]
  },
  {
   "cell_type": "markdown",
   "id": "9c19b6ce",
   "metadata": {},
   "source": [
    "Q14"
   ]
  },
  {
   "cell_type": "code",
   "execution_count": 24,
   "id": "d10eb1ce",
   "metadata": {},
   "outputs": [
    {
     "name": "stdout",
     "output_type": "stream",
     "text": [
      "Parsed Data:\n",
      " [['Name', 'Age', 'City'], ['Divij', '21', 'Delhi'], ['Sputnik', '20', 'Varanasi']]\n"
     ]
    }
   ],
   "source": [
    "import csv\n",
    "\n",
    "def parse_csv(filename):\n",
    "  data = []\n",
    "  try:\n",
    "    with open(filename, 'r', newline='') as f:\n",
    "      reader = csv.reader(f)\n",
    "      for row in reader:\n",
    "        data.append(row)\n",
    "  except FileNotFoundError:\n",
    "    print(f\"Error: File '{filename}' not found.\")\n",
    "  return data\n",
    "\n",
    "with open(\"data.csv\", \"w\", newline=\"\") as f:\n",
    "  writer = csv.writer(f)\n",
    "  writer.writerow([\"Name\", \"Age\", \"City\"])\n",
    "  writer.writerow([\"Divij\", 21, \"Delhi\"])\n",
    "  writer.writerow([\"Sputnik\", 20, \"Varanasi\"])\n",
    "\n",
    "parsed_data = parse_csv(\"data.csv\")\n",
    "print(f\"Parsed Data:\\n {parsed_data}\")"
   ]
  },
  {
   "cell_type": "markdown",
   "id": "a1aff04d",
   "metadata": {},
   "source": [
    "Q15"
   ]
  },
  {
   "cell_type": "code",
   "execution_count": 27,
   "id": "039d64f4",
   "metadata": {},
   "outputs": [
    {
     "name": "stdout",
     "output_type": "stream",
     "text": [
      "Number of mutations for 'hello': 284\n",
      "'Hello' and 'Hallo' are nearly : True\n",
      "'python' and 'pythno' are nearly equal: True\n",
      "'java' and 'jaxa' are nearly equal: True\n",
      "'apple' and 'apply' are nearly equal: True\n"
     ]
    }
   ],
   "source": [
    "def mutate(word):\n",
    "    letters = 'abcdefghijklmnopqrstuvwxyz'\n",
    "    splits = [(word[:i], word[i:]) for i in range(len(word) + 1)]\n",
    "\n",
    "    deletes = [L + R[1:] for L, R in splits if R]\n",
    "    transposes = [L + R[1] + R[0] + R[2:] for L, R in splits if len(R)>1]\n",
    "    replaces = [L + c + R[1:] for L, R in splits if R for c in letters]\n",
    "    inserts = [L + c + R for L, R in splits for c in letters]\n",
    "\n",
    "    return set(deletes + transposes + replaces + inserts)\n",
    "\n",
    "mutations = mutate(\"hello\")\n",
    "print(f\"Number of mutations for 'hello': {len(mutations)}\")\n",
    "def nearly_equal(a,b):\n",
    "  return a in mutate(b)\n",
    "\n",
    "print(f\"'Hello' and 'Hallo' are nearly : {nearly_equal('Hello', 'Hallo')}\")\n",
    "print(f\"'python' and 'pythno' are nearly equal: {nearly_equal('python', 'pythno')}\")\n",
    "print(f\"'java' and 'jaxa' are nearly equal: {nearly_equal('java', 'jaxa')}\")\n",
    "print(f\"'apple' and 'apply' are nearly equal: {nearly_equal('apple', 'apply')}\")"
   ]
  },
  {
   "cell_type": "markdown",
   "id": "4bb59037",
   "metadata": {},
   "source": [
    "Q16"
   ]
  },
  {
   "cell_type": "code",
   "execution_count": 28,
   "id": "aab78d35",
   "metadata": {},
   "outputs": [
    {
     "name": "stdout",
     "output_type": "stream",
     "text": [
      "Character Frequencies: Counter({' ': 4, 'e': 2, 'f': 2, 'u': 2, 'n': 2, 'x': 2, 'r': 2, 'd': 1, 'm': 1, 'y': 1, '_': 1, 'c': 1, '(': 1, ')': 1, ':': 1, '\\n': 1, 't': 1, '+': 1, '1': 1})\n"
     ]
    }
   ],
   "source": [
    "from collections import Counter\n",
    "\n",
    "def char_frequency(filename):\n",
    "  try:\n",
    "    with open(filename, 'r') as f:\n",
    "      return Counter(f.read())\n",
    "  except FileNotFoundError:\n",
    "    return Counter()\n",
    "\n",
    "\n",
    "with open(\"test.py\", \"w\") as f:\n",
    "  f.write(\"def my_func(x):\\n  return x+1\")\n",
    "\n",
    "freq = char_frequency(\"test.py\")\n",
    "print(f\"Character Frequencies: {freq}\")"
   ]
  },
  {
   "cell_type": "markdown",
   "id": "5b92c84a",
   "metadata": {},
   "source": [
    "Q17-"
   ]
  },
  {
   "cell_type": "code",
   "execution_count": 29,
   "id": "26ff7e16",
   "metadata": {},
   "outputs": [
    {
     "name": "stdout",
     "output_type": "stream",
     "text": [
      "Anagrams in ['eat', 'ate', 'done', 'tea', 'soup', 'node', 'tan', 'nat']:\n",
      "[['eat', 'ate', 'tea'], ['done', 'node'], ['tan', 'nat']]\n"
     ]
    }
   ],
   "source": [
    "from collections import defaultdict\n",
    "\n",
    "def find_anagrams(words):\n",
    "  \"\"\"\n",
    "  Finds and groups anagrams in a given list of words.\n",
    "  \"\"\"\n",
    "  anagram_map = defaultdict(list)\n",
    "  for word in words:\n",
    "    sorted_word = \"\".join(sorted(word))\n",
    "    anagram_map[sorted_word].append(word)\n",
    "\n",
    "  return [group for group in anagram_map.values() if len(group) > 1]\n",
    "\n",
    "# Example usage:\n",
    "word_list = ['eat', 'ate', 'done', 'tea', 'soup', 'node', 'tan', 'nat']\n",
    "anagram_groups = find_anagrams(word_list)\n",
    "print(f\"Anagrams in {word_list}:\")\n",
    "print(anagram_groups)"
   ]
  }
 ],
 "metadata": {
  "kernelspec": {
   "display_name": "Python 3",
   "language": "python",
   "name": "python3"
  },
  "language_info": {
   "codemirror_mode": {
    "name": "ipython",
    "version": 3
   },
   "file_extension": ".py",
   "mimetype": "text/x-python",
   "name": "python",
   "nbconvert_exporter": "python",
   "pygments_lexer": "ipython3",
   "version": "3.13.1"
  }
 },
 "nbformat": 4,
 "nbformat_minor": 5
}
